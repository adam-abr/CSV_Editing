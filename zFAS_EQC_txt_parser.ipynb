{
 "cells": [
  {
   "cell_type": "code",
   "execution_count": 5,
   "metadata": {},
   "outputs": [
    {
     "data": {
      "text/plain": [
       "{'Suite: Tests of Status Signal Boot Module': (1, 0),\n",
       " 'Suite: Tests of I2C Module': (78, 0),\n",
       " 'Suite: Tests of Boot Diagnostic Module': (13, 0),\n",
       " 'Suite: Tests of Msgs At Pending Init Module': (5, 0),\n",
       " 'Suite: Tests of zFAS Operational States Module': (1, 0),\n",
       " 'Suite: Tests of Init_MSG Module': (33, 0),\n",
       " 'Suite: Tests of Init Msg Special Module': (45, 0),\n",
       " 'Suite: Tests of LDA Special Module': (60, 0),\n",
       " 'Suite: Tests of MESTP Module': (11, 0),\n",
       " 'Suite: Tests of Calib Special Module': (9, 0),\n",
       " 'Suite: Tests of Coding Module': (45, 0),\n",
       " 'Suite: Tests of Input_Z080 Module': (70, 3),\n",
       " 'Suite: Tests of EGOM Module': (31, 0),\n",
       " 'Suite: Tests of EGOM Special Module': (1, 0),\n",
       " 'Suite: Tests of LDA Module': (30, 0),\n",
       " 'Suite: Tests of PED Special Module': (20, 0),\n",
       " 'Suite: Tests of PED Module': (234, 0),\n",
       " 'Suite: Tests of MOD Special Module': (35, 0),\n",
       " 'Suite: Tests of MOD Module': (221, 0),\n",
       " 'Suite: Tests of Object Prioritisation Module': (4, 0),\n",
       " 'Suite: Tests of TSR Module': (286, 0),\n",
       " 'Suite: Tests of TSR Special Module': (3, 0),\n",
       " 'Suite: Tests of WLA Module': (424, 0),\n",
       " 'Suite: Tests of WLA Special Module': (39, 0),\n",
       " 'Suite: Tests of RPE Module': (24, 0),\n",
       " 'Suite: Tests of RPE Special Module': (3, 0),\n",
       " 'Suite: Tests of SFM Special Module': (22, 0),\n",
       " 'Suite: Tests of SFM Module': (1, 0),\n",
       " 'Suite: Tests of Status Signal Module': (12, 0),\n",
       " 'Suite: Tests of Calib Module': (47, 0),\n",
       " 'Suite: Tests of Measurement Block Module': (66, 0),\n",
       " 'Suite: Tests of E2E Communication Protection Module': (33, 0),\n",
       " 'Suite: Tests of Timeout supervision Module': (42, 0),\n",
       " 'Suite: Tests of Challenge Response Protocol Module': (23, 0),\n",
       " 'Suite: Tests of Temperature Monitoring Module': (35, 0),\n",
       " 'Suite: Tests of Failsafe Blindness Module': (15, 0),\n",
       " 'Suite: Tests of MVH Fault Supervision Module': (76, 0),\n",
       " 'Suite: Tests of Camera Diagnostic during Vision Module': (12, 0),\n",
       " 'Suite: Tests of ZGT Time Synchronization Module': (6, 0),\n",
       " 'Suite: Tests of Failsafe Module': (32, 0),\n",
       " 'Suite: Tests of Failsafe Special Module': (2, 0),\n",
       " 'Suite: Tests of Camera Heater Module': (29, 7),\n",
       " 'Suite: Tests of Fault Handling Module': (20, 0),\n",
       " 'Suite: Tests of Input Z080 Special Module': (32, 0),\n",
       " 'Suite: Tests of Application Diagnostics Module': (35, 0),\n",
       " 'Suite: Tests of Appl_Diag Module': (2, 0),\n",
       " 'Suite: Tests of Diagnostic Error Entries Module': (3, 0),\n",
       " 'Suite: Tests of Headlamp Parameters Module': (39, 0),\n",
       " 'Suite: Tests of Camera Calibration Module': (317, 1),\n",
       " 'Suite: Tests of Online and InitOnline calibration Module': (126, 0),\n",
       " 'Suite: Tests of EyeQCom DTC Locking Module': (84, 0)}"
      ]
     },
     "execution_count": 5,
     "metadata": {},
     "output_type": "execute_result"
    }
   ],
   "source": [
    "import os\n",
    "\n",
    "input_file = r\"C:\\Users\\mznmlt\\Documents\\zFAS\\cunit_0361.txt\"\n",
    "output_file = os.path.join(os.path.dirname(input_file), 'statistics.txt')\n",
    "with open(input_file, 'r') as my_file:\n",
    "    data = my_file.read()\n",
    "\n",
    "data = data.split('\\n')\n",
    "\n",
    "output_data = dict()\n",
    "current_suite = ''\n",
    "passed = 0\n",
    "failed = 0\n",
    "\n",
    "for line in data:\n",
    "    if len(line) != 0:\n",
    "        if 'Suite:' in line:\n",
    "            if len(current_suite) != 0:\n",
    "                output_data[current_suite] = (passed, failed)\n",
    "            passed = 0\n",
    "            failed = 0\n",
    "            current_suite = line\n",
    "        elif 'passed' in line:\n",
    "            passed += 1\n",
    "        elif 'FAILED' in line:\n",
    "            failed += 1\n",
    "if len(current_suite) != 0:\n",
    "    output_data[current_suite] = (passed, failed)\n",
    "    passed = 0\n",
    "    failed = 0\n",
    "\n",
    "output_data"
   ]
  },
  {
   "cell_type": "code",
   "execution_count": 6,
   "metadata": {},
   "outputs": [
    {
     "name": "stdout",
     "output_type": "stream",
     "text": [
      "Cool!\n"
     ]
    }
   ],
   "source": [
    "if ('Suite:' in data[15]) and (len(current_suite) != 0):\n",
    "    print('Cool!')"
   ]
  },
  {
   "cell_type": "code",
   "execution_count": 7,
   "metadata": {},
   "outputs": [],
   "source": [
    "output_data['a'] = (1,0)"
   ]
  },
  {
   "cell_type": "code",
   "execution_count": 8,
   "metadata": {},
   "outputs": [
    {
     "data": {
      "text/plain": [
       "{'Suite: Tests of Status Signal Boot Module': (1, 0),\n",
       " 'Suite: Tests of I2C Module': (78, 0),\n",
       " 'Suite: Tests of Boot Diagnostic Module': (13, 0),\n",
       " 'Suite: Tests of Msgs At Pending Init Module': (5, 0),\n",
       " 'Suite: Tests of zFAS Operational States Module': (1, 0),\n",
       " 'Suite: Tests of Init_MSG Module': (33, 0),\n",
       " 'Suite: Tests of Init Msg Special Module': (45, 0),\n",
       " 'Suite: Tests of LDA Special Module': (60, 0),\n",
       " 'Suite: Tests of MESTP Module': (11, 0),\n",
       " 'Suite: Tests of Calib Special Module': (9, 0),\n",
       " 'Suite: Tests of Coding Module': (45, 0),\n",
       " 'Suite: Tests of Input_Z080 Module': (70, 3),\n",
       " 'Suite: Tests of EGOM Module': (31, 0),\n",
       " 'Suite: Tests of EGOM Special Module': (1, 0),\n",
       " 'Suite: Tests of LDA Module': (30, 0),\n",
       " 'Suite: Tests of PED Special Module': (20, 0),\n",
       " 'Suite: Tests of PED Module': (234, 0),\n",
       " 'Suite: Tests of MOD Special Module': (35, 0),\n",
       " 'Suite: Tests of MOD Module': (221, 0),\n",
       " 'Suite: Tests of Object Prioritisation Module': (4, 0),\n",
       " 'Suite: Tests of TSR Module': (286, 0),\n",
       " 'Suite: Tests of TSR Special Module': (3, 0),\n",
       " 'Suite: Tests of WLA Module': (424, 0),\n",
       " 'Suite: Tests of WLA Special Module': (39, 0),\n",
       " 'Suite: Tests of RPE Module': (24, 0),\n",
       " 'Suite: Tests of RPE Special Module': (3, 0),\n",
       " 'Suite: Tests of SFM Special Module': (22, 0),\n",
       " 'Suite: Tests of SFM Module': (1, 0),\n",
       " 'Suite: Tests of Status Signal Module': (12, 0),\n",
       " 'Suite: Tests of Calib Module': (47, 0),\n",
       " 'Suite: Tests of Measurement Block Module': (66, 0),\n",
       " 'Suite: Tests of E2E Communication Protection Module': (33, 0),\n",
       " 'Suite: Tests of Timeout supervision Module': (42, 0),\n",
       " 'Suite: Tests of Challenge Response Protocol Module': (23, 0),\n",
       " 'Suite: Tests of Temperature Monitoring Module': (35, 0),\n",
       " 'Suite: Tests of Failsafe Blindness Module': (15, 0),\n",
       " 'Suite: Tests of MVH Fault Supervision Module': (76, 0),\n",
       " 'Suite: Tests of Camera Diagnostic during Vision Module': (12, 0),\n",
       " 'Suite: Tests of ZGT Time Synchronization Module': (6, 0),\n",
       " 'Suite: Tests of Failsafe Module': (32, 0),\n",
       " 'Suite: Tests of Failsafe Special Module': (2, 0),\n",
       " 'Suite: Tests of Camera Heater Module': (29, 7),\n",
       " 'Suite: Tests of Fault Handling Module': (20, 0),\n",
       " 'Suite: Tests of Input Z080 Special Module': (32, 0),\n",
       " 'Suite: Tests of Application Diagnostics Module': (35, 0),\n",
       " 'Suite: Tests of Appl_Diag Module': (2, 0),\n",
       " 'Suite: Tests of Diagnostic Error Entries Module': (3, 0),\n",
       " 'Suite: Tests of Headlamp Parameters Module': (39, 0),\n",
       " 'Suite: Tests of Camera Calibration Module': (317, 1),\n",
       " 'Suite: Tests of Online and InitOnline calibration Module': (126, 0),\n",
       " 'Suite: Tests of EyeQCom DTC Locking Module': (84, 0),\n",
       " 'a': (1, 0)}"
      ]
     },
     "execution_count": 8,
     "metadata": {},
     "output_type": "execute_result"
    }
   ],
   "source": [
    "output_data"
   ]
  },
  {
   "cell_type": "code",
   "execution_count": null,
   "metadata": {},
   "outputs": [],
   "source": []
  }
 ],
 "metadata": {
  "kernelspec": {
   "display_name": "Python 3",
   "language": "python",
   "name": "python3"
  },
  "language_info": {
   "codemirror_mode": {
    "name": "ipython",
    "version": 3
   },
   "file_extension": ".py",
   "mimetype": "text/x-python",
   "name": "python",
   "nbconvert_exporter": "python",
   "pygments_lexer": "ipython3",
   "version": "3.7.4"
  }
 },
 "nbformat": 4,
 "nbformat_minor": 2
}
